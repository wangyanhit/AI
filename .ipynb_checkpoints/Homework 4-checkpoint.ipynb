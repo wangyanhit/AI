{
 "cells": [
  {
   "cell_type": "markdown",
   "metadata": {},
   "source": [
    "<h1><center>Homework 4. Due: Monday, Nov. 13, 6pm</center></h1>\n",
    "<h1><center>ywang28</center></h1>"
   ]
  },
  {
   "cell_type": "markdown",
   "metadata": {},
   "source": [
    "# Problem 1.\n",
    "## (a) (10 points) Implement your own k-means algorithm from the lecture slides using Python\n",
    "Firstly, we need to import numpy."
   ]
  },
  {
   "cell_type": "code",
   "execution_count": 1,
   "metadata": {
    "collapsed": true
   },
   "outputs": [],
   "source": [
    "import numpy as np"
   ]
  },
  {
   "cell_type": "markdown",
   "metadata": {},
   "source": [
    "The implymented k-means algorithm is"
   ]
  },
  {
   "cell_type": "code",
   "execution_count": 2,
   "metadata": {
    "collapsed": true
   },
   "outputs": [],
   "source": [
    "class KMeans:\n",
    "    def __init__(self, n_clusters, max_iter=100):\n",
    "        self.m = n_clusters\n",
    "        self.max_iter = max_iter\n",
    "\n",
    "    def init_centroids(self):\n",
    "        data_min, data_max = np.min(self.data, axis=0), np.max(self.data, axis=0)\n",
    "        self.centroids = np.random.random((self.m, self.l)) * \\\n",
    "                            (data_max - data_min) + data_min\n",
    "\n",
    "    def assignment(self):\n",
    "        for i in range(self.n):\n",
    "            self.labels_[i] = np.argmin(np.sqrt(\n",
    "                np.sum((self.data[i, :] - self.centroids)**2, axis=1)))\n",
    "\n",
    "    def update(self):\n",
    "        for i in range(self.m):\n",
    "            if True in (self.labels_ == i):\n",
    "                self.centroids[i] = np.mean(self.data[self.labels_ == i, :], axis=0)\n",
    "\n",
    "\n",
    "    def fit(self, X):\n",
    "        self.data = X\n",
    "        self.l = np.shape(self.data)[1]\n",
    "        self.n = np.shape(self.data)[0]\n",
    "        self.init_centroids()\n",
    "        self.labels_ = np.random.randint(self.m, size=self.n)\n",
    "        cnt = 1\n",
    "        while True:\n",
    "            pre_centroids = self.centroids.copy()\n",
    "            self.assignment()\n",
    "            self.update()\n",
    "            # End condition judgement\n",
    "            if np.sum(np.abs(pre_centroids - self.centroids)) == 0:\n",
    "                print('After {} iterations k means converges.'.format(cnt))\n",
    "                break\n",
    "            if cnt > self.max_iter:\n",
    "                print('Reach max iteration number..')\n",
    "                break\n",
    "            cnt += 1"
   ]
  },
  {
   "cell_type": "markdown",
   "metadata": {},
   "source": [
    "## (b) (10 points) Using the k-means algorithm, cluster the data from the attached file realdata.txt. Plot X,Y coordinates for the entire dataset. Use different symbols and colors to represent your data points for different clusters. Label X and Y axis as 'Length' and 'Width', correspondingly. Label each cluster as “Cluster 1”, “Cluster 2”, etc. Explain your findings.\n",
    "Firstly, we need to import dependencies. "
   ]
  },
  {
   "cell_type": "code",
   "execution_count": 3,
   "metadata": {
    "collapsed": true
   },
   "outputs": [],
   "source": [
    "import numpy as np\n",
    "import matplotlib.pyplot as plt"
   ]
  },
  {
   "cell_type": "markdown",
   "metadata": {},
   "source": [
    "Next, we will create an instance of KMeans class, fit our data and visualize the clustering result. In this time, we will set the cluster number to 2."
   ]
  },
  {
   "cell_type": "code",
   "execution_count": 4,
   "metadata": {},
   "outputs": [
    {
     "name": "stdout",
     "output_type": "stream",
     "text": [
      "After 5 iterations k means converges.\n"
     ]
    },
    {
     "data": {
      "image/png": "[encoded data removed]",
      "text/plain": [
       "<matplotlib.figure.Figure at 0x1eb4082cdd8>"
      ]
     },
     "metadata": {},
     "output_type": "display_data"
    }
   ],
   "source": [
    "k_means = KMeans(2)\n",
    "X = np.loadtxt(\"realdata.txt\")[:, 1:]\n",
    "k_means.fit(X)\n",
    "labels = k_means.labels_\n",
    "\n",
    "plt.xlabel('Length')\n",
    "plt.ylabel('Width')\n",
    "handles = []\n",
    "s1 = plt.scatter(X[labels == 0, 0], X[labels == 0, 1],\n",
    "                 color='r', label=\"Cluter1\", marker='o')\n",
    "handles.append(s1)\n",
    "s2 = plt.scatter(X[labels == 1, 0], X[labels == 1, 1],\n",
    "                 color='k', label=\"Cluter2\", marker='^')\n",
    "handles.append(s2)\n",
    "\n",
    "plt.legend(handles=handles)\n",
    "plt.title('K-means')\n",
    "plt.show()"
   ]
  },
  {
   "cell_type": "markdown",
   "metadata": {},
   "source": [
    "Due to my experiments, when m is 2 the k-means algorithm converges and meets the ending condition that the centroids don’t change any more after 4 iterations. And I have tried different random initializations, they all converge to the same result."
   ]
  },
  {
   "cell_type": "markdown",
   "metadata": {},
   "source": [
    "Now, I will try to change the cluster number to a wrong value, let's say 3."
   ]
  },
  {
   "cell_type": "code",
   "execution_count": 5,
   "metadata": {},
   "outputs": [
    {
     "name": "stdout",
     "output_type": "stream",
     "text": [
      "After 22 iterations k means converges.\n"
     ]
    },
    {
     "data": {
      "image/png": "[encoded data removed]",
      "text/plain": [
       "<matplotlib.figure.Figure at 0x1eb3fbf0198>"
      ]
     },
     "metadata": {},
     "output_type": "display_data"
    }
   ],
   "source": [
    "k_means = KMeans(3)\n",
    "X = np.loadtxt(\"realdata.txt\")[:, 1:]\n",
    "k_means.fit(X)\n",
    "labels = k_means.labels_\n",
    "\n",
    "plt.xlabel('Length')\n",
    "plt.ylabel('Width')\n",
    "handles = []\n",
    "s1 = plt.scatter(X[labels == 0, 0], X[labels == 0, 1],\n",
    "                 color='r', label=\"Cluter1\", marker='o')\n",
    "handles.append(s1)\n",
    "s2 = plt.scatter(X[labels == 1, 0], X[labels == 1, 1],\n",
    "                 color='k', label=\"Cluter2\", marker='^')\n",
    "handles.append(s2)\n",
    "s3 = plt.scatter(X[labels == 2, 0], X[labels == 2, 1],\n",
    "                 color='b', label=\"Cluter2\", marker='+')\n",
    "handles.append(s3)\n",
    "\n",
    "plt.legend(handles=handles)\n",
    "plt.title('K-means')\n",
    "plt.show()"
   ]
  },
  {
   "cell_type": "markdown",
   "metadata": {},
   "source": [
    "We can see although k-means can converge after a couple of iterations, the result is wrong.\n",
    "We can conclude:\n",
    "\n",
    "1.\tWhen the clusters have similar sizes, little noise and significant differences of distances from each other, k-means can cluster very accurately to the same result.\n",
    "2.\tNumber of clusters is required for k-means, or the result will be wrong.\n"
   ]
  },
  {
   "cell_type": "markdown",
   "metadata": {},
   "source": [
    "# Problem 2."
   ]
  },
  {
   "cell_type": "markdown",
   "metadata": {},
   "source": [
    "## (a) (10 points) Implement your own logistic regression with regularization algorithm from the lecture slides using Python"
   ]
  },
  {
   "cell_type": "code",
   "execution_count": 82,
   "metadata": {
    "collapsed": true
   },
   "outputs": [],
   "source": [
    "import  numpy as np\n",
    "\n",
    "\n",
    "class LogisticRegression():\n",
    "    def __init__(self, learning_rate, max_iter, lamb):\n",
    "        self.learning_rate = learning_rate\n",
    "        self.max_iter = max_iter\n",
    "        self.lamb = lamb\n",
    "\n",
    "    def sigmoid(self, z):\n",
    "        # to remove overflow problem\n",
    "        z[-z > 500] = -500\n",
    "        return 1 / (1 + np.exp(-z))\n",
    "\n",
    "    def fit(self, X, y):\n",
    "        self.m, self.n = X.shape[0], X.shape[1] + 1\n",
    "        one = np.ones((self.m, 1))\n",
    "        self.w = np.random.normal(loc=0.0, scale=0.1, size=(self.n, 1))\n",
    "        self.X = np.concatenate((one, X), axis=1)\n",
    "        self.y = y.reshape((self.m, 1))\n",
    "        for i in range(self.max_iter):\n",
    "            z = self.X.dot(self.w)\n",
    "            sig = self.sigmoid(z)\n",
    "            gradient_regularization = self.lamb / self.m * self.w\n",
    "            gradient_regularization[0][0] = 0\n",
    "            gradient = self.X.transpose().dot(-self.y + sig) / self.m +\\\n",
    "                       gradient_regularization\n",
    "                        \n",
    "            self.w -= self.learning_rate * gradient\n",
    "\n",
    "    def predict(self, X):\n",
    "        one = np.ones((X.shape[0], 1))\n",
    "        one_X = np.concatenate((one, X), axis=1)\n",
    "        pred = np.ravel(self.sigmoid(one_X.dot(self.w))) > 0.5\n",
    "        pred = pred * 1.0\n",
    "        return pred"
   ]
  },
  {
   "cell_type": "markdown",
   "metadata": {},
   "source": [
    "## (b) (10 points) Using the implemented algorithm, train and test the data from the attached file realdata1.zip:\n"
   ]
  },
  {
   "cell_type": "markdown",
   "metadata": {},
   "source": [
    "### Use 80% of each class data to train your classifier, and the remaining 20% to test it.\n"
   ]
  },
  {
   "cell_type": "markdown",
   "metadata": {},
   "source": [
    "### Run different values of logistic regression regularization parameter (λ). The range of λ is from -2 to 4 and the step is 0.2\n"
   ]
  },
  {
   "cell_type": "markdown",
   "metadata": {},
   "source": [
    "### Plot the f-measure of the algorithm’s performance on the training set as a function of (λ):\n",
    "\n",
    "$f -measure = 2 * Pr * Re / (Pr + Re)$\n",
    "\n",
    "where $Pre = TP / (TP + FP); Rec = TP / (TP + FN)$\n",
    "\n",
    "and TP is the number of true positives (class 1 members predicted as class 1),\n",
    "TN is the number of true negatives (class 2 members predicted as class 2),\n",
    "FP is the number of false positives (class 2 members predicted as class 1),\n",
    "and FN is the number of false negatives (class 1 members predicted as class 2)."
   ]
  },
  {
   "cell_type": "markdown",
   "metadata": {},
   "source": [
    "Firstly, we need to write a function to load the data."
   ]
  },
  {
   "cell_type": "code",
   "execution_count": 70,
   "metadata": {
    "collapsed": true
   },
   "outputs": [],
   "source": [
    "import numpy as np\n",
    "from collections import OrderedDict\n",
    "\n",
    "\n",
    "data = []\n",
    "with open('realdata1\\chronic_kidney_disease_full.arff', 'rb') as f:\n",
    "    lines = [x.strip() for x in f.readlines()]\n",
    "    data_start = False\n",
    "    for line in lines:\n",
    "        if data_start:\n",
    "            if line == b'':\n",
    "                break\n",
    "            data.append(\n",
    "              line.decode('utf-8').replace('\\t', '').replace(' ', '').split(','))\n",
    "        if line == b'@data':\n",
    "            data_start = True"
   ]
  },
  {
   "cell_type": "markdown",
   "metadata": {},
   "source": [
    "After loading the data, I found there are lots of problems with the original data so that it can be used directly. For example, there are lots of missing features. I complete the missing feature with the mean value of all the same variables of corresponding features. Also, some of the features are categorical which can not be used with logistic classification. Here, I change the catergorical feature into one-hot form."
   ]
  },
  {
   "cell_type": "code",
   "execution_count": 71,
   "metadata": {
    "collapsed": true
   },
   "outputs": [],
   "source": [
    "numerical_features = [0, 1, 2, 9, 10, 11, 12, 13, 14, 15, 16, 17]\n",
    "\n",
    "\n",
    "def get_raw_data(data, num_features):\n",
    "    X = []\n",
    "    y = []\n",
    "    i = 0\n",
    "    ct = OrderedDict({'age': [], 'bp': [], 'sg': [],\n",
    "                            'al': [], 'su': [], 'rbc': [],\n",
    "                            'pc': [], 'pcc': [], 'ba': [],\n",
    "                            'bgr': [], 'bu': [], 'sc': [],\n",
    "                            'sod': [], 'pot': [], 'hemo': [],\n",
    "                            'pcv': [], 'wc': [], 'rc': [],\n",
    "                            'htn': [], 'dm': [], 'cad': [],\n",
    "                            'appet': [], 'pe': [], 'ane': []})\n",
    "    for sample in data:\n",
    "        j = 0\n",
    "        sample_bias = 0\n",
    "        sample_raw = []\n",
    "        for c in ct:\n",
    "            if j not in num_features:\n",
    "                # fix wrong format\n",
    "                while sample[j + sample_bias] is '':\n",
    "                    sample_bias += 1\n",
    "                if sample[j + sample_bias] not in ct[c] and sample[j + sample_bias] is not '?':\n",
    "                    ct[c].append(sample[j + sample_bias])\n",
    "                    sample_raw.append(sample[j + sample_bias])\n",
    "                else:\n",
    "                    sample_raw.append(sample[j + sample_bias])\n",
    "            else:\n",
    "                sample_raw.append(sample[j + sample_bias])\n",
    "            j += 1\n",
    "        X.append(sample_raw)\n",
    "        y.append(sample[j + sample_bias])\n",
    "        i += 1\n",
    "    return X, y, ct\n",
    "\n",
    "\n",
    "def complete_missing_data(X_raw, ct, num_features):\n",
    "    # get the lens of category and initialize the means of every feature\n",
    "    lens = OrderedDict({})\n",
    "    means = OrderedDict({})\n",
    "    num = OrderedDict({})\n",
    "\n",
    "    for c in ct:\n",
    "        # numerical\n",
    "        if len(ct[c]) is 0:\n",
    "            lens[c] = 1\n",
    "            means[c] = 0\n",
    "        # binary\n",
    "        elif len(ct[c]) is 2:\n",
    "            lens[c] = 1\n",
    "            means[c] = 0\n",
    "        # multi-class\n",
    "        else:\n",
    "            lens[c] = len(ct[c])\n",
    "            means[c] = np.zeros(len(ct[c]))\n",
    "        num[c] = 0\n",
    "    i = 0\n",
    "    for x in X_raw:\n",
    "        j = 0\n",
    "        for c in ct:\n",
    "            # numerical feature\n",
    "            if x[j] != '?':\n",
    "                num[c] += 1\n",
    "                if j in num_features:\n",
    "                    means[c] += np.float32(x[j])\n",
    "                    X_raw[i][j] = np.float32(x[j])\n",
    "                # binary feature\n",
    "                elif len(ct[c]) == 2:\n",
    "                    X_raw[i][j] = ct[c].index(x[j])\n",
    "                    means[c] += X_raw[i][j]\n",
    "                # multi-class feature\n",
    "                else:\n",
    "                    tmp = np.zeros(lens[c])\n",
    "                    tmp[ct[c].index(x[j])] = 1\n",
    "                    means[c] += tmp\n",
    "                    X_raw[i][j] = tmp\n",
    "            j += 1\n",
    "        i += 1\n",
    "    for c in ct:\n",
    "        means[c] /= num[c]\n",
    "\n",
    "    # complete missing feature\n",
    "    for i in range(len(X_raw)):\n",
    "        j = 0\n",
    "        for c in ct:\n",
    "            if X_raw[i][j] is '?':\n",
    "                X_raw[i][j] = means[c]\n",
    "            j += 1\n",
    "    # change into numpy array\n",
    "    X_new = np.array([[]])\n",
    "    for x in X_raw:\n",
    "        x_new = np.array([])\n",
    "        for j in range(24):\n",
    "            if np.shape(x[j]) == ():\n",
    "                x_new = np.concatenate((x_new, np.array([x[j]])), axis=0)\n",
    "            else:\n",
    "                x_new = np.concatenate((x_new, x[j]), axis=0)\n",
    "        x_new = x_new.reshape((1, -1))\n",
    "        if X_new.shape == (1, 0):\n",
    "            X_new = x_new\n",
    "        else:\n",
    "            X_new = np.concatenate((X_new, x_new), axis=0)\n",
    "\n",
    "    return X_new"
   ]
  },
  {
   "cell_type": "markdown",
   "metadata": {},
   "source": [
    "Now I put all these preprocessing staffs together using one function."
   ]
  },
  {
   "cell_type": "code",
   "execution_count": 72,
   "metadata": {
    "collapsed": true
   },
   "outputs": [],
   "source": [
    "def get_data():\n",
    "    X_raw, y_raw, category = get_raw_data(data, numerical_features)\n",
    "    X = complete_missing_data(X_raw, category, numerical_features)\n",
    "    #X = normalize_data(X)\n",
    "\n",
    "    y = np.array(y_raw) == 'notckd'\n",
    "    y = y.astype(np.float32)\n",
    "    return X, y"
   ]
  },
  {
   "cell_type": "markdown",
   "metadata": {},
   "source": [
    "I write a function to shuffle the data into training set and testing set as specific proportion."
   ]
  },
  {
   "cell_type": "code",
   "execution_count": 73,
   "metadata": {
    "collapsed": true
   },
   "outputs": [],
   "source": [
    "def split_into_train_test_set(X, y, per_train):\n",
    "    n_train = np.int(y.shape[0] * per_train)\n",
    "    p = np.random.permutation(y.shape[0])\n",
    "\n",
    "    return X[p][:n_train], y[p][:n_train], X[p][n_train:], y[p][n_train:]"
   ]
  },
  {
   "cell_type": "markdown",
   "metadata": {},
   "source": [
    "With this function, we now can train the data and see the result."
   ]
  },
  {
   "cell_type": "code",
   "execution_count": 85,
   "metadata": {},
   "outputs": [
    {
     "name": "stderr",
     "output_type": "stream",
     "text": [
      "C:\\Users\\wangy\\Anaconda3\\lib\\site-packages\\sklearn\\metrics\\classification.py:1113: UndefinedMetricWarning: F-score is ill-defined and being set to 0.0 due to no predicted samples.\n",
      "  'precision', 'predicted', average, warn_for)\n"
     ]
    },
    {
     "data": {
      "image/png": "[encoded data removed]",
      "text/plain": [
       "<matplotlib.figure.Figure at 0x1eb44dc1dd8>"
      ]
     },
     "metadata": {},
     "output_type": "display_data"
    }
   ],
   "source": [
    "from sklearn.metrics import f1_score\n",
    "\n",
    "\n",
    "X, y = get_data()\n",
    "X_train, y_train, X_test, y_test = split_into_train_test_set(X, y, 0.8)\n",
    "lam = np.linspace(-2, 4, 31)\n",
    "f1_train = lam.copy()\n",
    "f1_test = lam.copy()\n",
    "for i in range(31):\n",
    "    clf = LogisticRegression(0.02, 5000, lam[i])\n",
    "    clf.fit(X_train, y_train)\n",
    "    pred = clf.predict(X_train)\n",
    "    f_train = f1_score(y_train, pred)\n",
    "    f1_train[i] = f_train\n",
    "    pred = clf.predict(X_test)\n",
    "    f_test = f1_score(y_test, pred)\n",
    "    f1_test[i] = f_test   \n",
    "\n",
    "ax = plt.subplot(111)\n",
    "plt.plot(lam, f1_train, label='training set')\n",
    "plt.plot(lam, f1_test, label='test set')\n",
    "ax.set_xlabel('lambda')\n",
    "ax.set_ylabel('f-measure')\n",
    "leg = plt.legend(loc='best', ncol=2, mode=\"expand\", shadow=True, fancybox=True)\n",
    "plt.show()"
   ]
  },
  {
   "cell_type": "markdown",
   "metadata": {},
   "source": [
    "We can see with the original data, the fitting performance is very bad on both training set and test set, and even sometimes fails."
   ]
  },
  {
   "cell_type": "markdown",
   "metadata": {},
   "source": [
    "## (c) (10 points) Repeat the procedure in (b) but now using the features normalized with the standardization protocol discussed in the class"
   ]
  },
  {
   "cell_type": "code",
   "execution_count": 75,
   "metadata": {
    "collapsed": true
   },
   "outputs": [],
   "source": [
    "def normalize_data(X):\n",
    "    X -= np.mean(X, axis=0)\n",
    "    std = np.std(X, axis=0)\n",
    "    X /= std\n",
    "    return X"
   ]
  },
  {
   "cell_type": "code",
   "execution_count": 76,
   "metadata": {
    "collapsed": true
   },
   "outputs": [],
   "source": [
    "def get_normalized_data():\n",
    "    X_raw, y_raw, category = get_raw_data(data, numerical_features)\n",
    "    X = complete_missing_data(X_raw, category, numerical_features)\n",
    "    X = normalize_data(X)\n",
    "\n",
    "    y = np.array(y_raw) == 'notckd'\n",
    "    y = y.astype(np.float32)\n",
    "    return X, y"
   ]
  },
  {
   "cell_type": "code",
   "execution_count": 84,
   "metadata": {},
   "outputs": [
    {
     "data": {
      "image/png": "[encoded data removed]",
      "text/plain": [
       "<matplotlib.figure.Figure at 0x1eb44bbcd68>"
      ]
     },
     "metadata": {},
     "output_type": "display_data"
    }
   ],
   "source": [
    "X, y = get_normalized_data()\n",
    "X_train, y_train, X_test, y_test = split_into_train_test_set(X, y, 0.8)\n",
    "lam = np.linspace(-2, 4, 31)\n",
    "f1_train = lam.copy()\n",
    "f1_test = lam.copy()\n",
    "for i in range(31):\n",
    "    clf = LogisticRegression(0.2, 10000, lam[i])\n",
    "    clf.fit(X_train, y_train)\n",
    "    pred = clf.predict(X_train)\n",
    "    f_train = f1_score(y_train, pred)\n",
    "    f1_train[i] = f_train\n",
    "    pred = clf.predict(X_test)\n",
    "    f_test = f1_score(y_test, pred)\n",
    "    f1_test[i] = f_test   \n",
    "ax = plt.subplot(111)\n",
    "plt.plot(lam, f1_train, label='training set')\n",
    "plt.plot(lam, f1_test, label='test set')\n",
    "ax.set_xlabel('lambda')\n",
    "ax.set_ylabel('f-measure')\n",
    "leg = plt.legend(loc='best', ncol=2, mode=\"expand\", shadow=True, fancybox=True)\n",
    "plt.show()"
   ]
  },
  {
   "cell_type": "markdown",
   "metadata": {},
   "source": [
    "With normalizition, the performance of the learning increases significantly. We can find when the $\\lambda$ is less than and equal to 0, the learner is overfitted to the training set and the performance of test set is not good. With some small regularization, the performance on test set reaches best. After the best preformance on test set, as $\\lambda$ increases the learner becomes underfitted."
   ]
  },
  {
   "cell_type": "markdown",
   "metadata": {},
   "source": [
    "This part of the homework, you will be working on applying methods and datasets from Scikit-learn library.\n",
    "\n",
    "# Problem 3. (20 points) Apply three clustering techniques to the handwritten digits dataset. Assume with k=10:"
   ]
  },
  {
   "cell_type": "markdown",
   "metadata": {},
   "source": [
    "Firstly, we need to import dependencies and the data set."
   ]
  },
  {
   "cell_type": "code",
   "execution_count": 114,
   "metadata": {
    "collapsed": true
   },
   "outputs": [],
   "source": [
    "import numpy as np\n",
    "from sklearn import datasets\n",
    "from sklearn.cluster import AgglomerativeClustering\n",
    "from sklearn.cluster import AffinityPropagation\n",
    "from sklearn.metrics import confusion_matrix\n",
    "from sklearn.metrics.cluster.supervised \\\n",
    "    import check_clusterings, contingency_matrix\n",
    "\n",
    "digits = datasets.load_digits(n_class=10)\n",
    "X = digits.data\n",
    "y = digits.target\n",
    "n_samples, n_features = X.shape"
   ]
  },
  {
   "cell_type": "markdown",
   "metadata": {},
   "source": [
    "Next, I define a function to define the cluster by the digit that represents the majority of the current cluster as the instructions."
   ]
  },
  {
   "cell_type": "code",
   "execution_count": 115,
   "metadata": {
    "collapsed": true
   },
   "outputs": [],
   "source": [
    "# Redefine cluster's name\n",
    "def def_cluster(y, labels):\n",
    "    labels_new = labels.copy()\n",
    "    for i in range(10):\n",
    "        counts = np.bincount(y[labels == i])\n",
    "        if counts.shape[0] > 0:\n",
    "            labels_new[labels == i] = np.argmax(counts)\n",
    "    return labels_new"
   ]
  },
  {
   "cell_type": "markdown",
   "metadata": {},
   "source": [
    "I have to re-inpelement the function 'fowlkes_mallows_score' to calculate Fowlkes and Mallows index, since there will be an overflow problem with the function from scikit."
   ]
  },
  {
   "cell_type": "code",
   "execution_count": 116,
   "metadata": {
    "collapsed": true
   },
   "outputs": [],
   "source": [
    "def fowlkes_mallows_score(labels_true, labels_pred, sparse=False):\n",
    "    labels_true, labels_pred = check_clusterings(labels_true, labels_pred)\n",
    "    n_samples, = labels_true.shape\n",
    "\n",
    "    c = contingency_matrix(labels_true, labels_pred, sparse=True)\n",
    "    tk = np.dot(c.data, c.data) - n_samples\n",
    "    pk = np.sum(np.asarray(c.sum(axis=0)).ravel() ** 2) - n_samples\n",
    "    qk = np.sum(np.asarray(c.sum(axis=1)).ravel() ** 2) - n_samples\n",
    "    return tk / np.sqrt(np.float32(pk) * qk) if tk != 0. else 0."
   ]
  },
  {
   "cell_type": "markdown",
   "metadata": {},
   "source": [
    "## k-means clustering implemented above\n",
    "### Fit the data and rename the clusters."
   ]
  },
  {
   "cell_type": "code",
   "execution_count": 117,
   "metadata": {},
   "outputs": [
    {
     "name": "stdout",
     "output_type": "stream",
     "text": [
      "After 22 iterations k means converges.\n",
      "Print 30 samples to see the performance of the algorithm intuitively.\n",
      "y:      [0 1 2 3 4 5 6 7 8 9 0 1 2 3 4 5 6 7 8 9 0 1 2 3 4 5 6 7 8 9]\n",
      "cluster:[0 1 1 3 4 3 6 7 8 3 0 1 2 3 4 7 6 7 1 3 0 1 2 3 4 7 6 1 1 3]\n"
     ]
    }
   ],
   "source": [
    "clustering = KMeans(n_clusters=10, max_iter=500)\n",
    "clustering.fit(X)\n",
    "labels = def_cluster(y, clustering.labels_)\n",
    "print('Print 30 samples to see the performance of the algorithm intuitively.')\n",
    "print('y:      ' + str(y[:30]))\n",
    "print('cluster:' + str(labels[:30]))"
   ]
  },
  {
   "cell_type": "markdown",
   "metadata": {},
   "source": [
    "### Create confusion matrix."
   ]
  },
  {
   "cell_type": "code",
   "execution_count": 118,
   "metadata": {
    "scrolled": false
   },
   "outputs": [
    {
     "name": "stdout",
     "output_type": "stream",
     "text": [
      "confusion matrix:\n",
      "[[176   0   0   0   2   0   0   0   0   0]\n",
      " [  0 155  25   0   0   0   2   0   0   0]\n",
      " [  1   6 144   1   0   0   0   1  24   0]\n",
      " [  0   3   1 145   0   0   0  12  22   0]\n",
      " [  0   8   0   0 163   0   0  10   0   0]\n",
      " [  0   4   0  84   3   0   3  87   1   0]\n",
      " [  1   3   0   0   0   0 177   0   0   0]\n",
      " [  0  10   0   0   0   0   0 169   0   0]\n",
      " [  0  77   3   6   0   0   1  12  75   0]\n",
      " [  0  20   0 107   0   0   0  14  39   0]]\n"
     ]
    }
   ],
   "source": [
    "cfs_mat = confusion_matrix(y, labels)\n",
    "print(\"confusion matrix:\")\n",
    "print(cfs_mat)"
   ]
  },
  {
   "cell_type": "markdown",
   "metadata": {},
   "source": [
    "From the confusion matrix, we can see for most digits the clustering results are relatively good. But for number 5 and number 9, the results are very bad."
   ]
  },
  {
   "cell_type": "markdown",
   "metadata": {},
   "source": [
    "### Fowlkes–Mallows index"
   ]
  },
  {
   "cell_type": "code",
   "execution_count": 119,
   "metadata": {},
   "outputs": [
    {
     "name": "stdout",
     "output_type": "stream",
     "text": [
      "Fowlkes–Mallows index:\n",
      "0.594720942252\n"
     ]
    }
   ],
   "source": [
    "fm_index = fowlkes_mallows_score(y, labels)\n",
    "print(\"Fowlkes–Mallows index:\")\n",
    "print(fm_index)"
   ]
  },
  {
   "cell_type": "markdown",
   "metadata": {},
   "source": [
    "The Fowlkes–Mallows index is 0.594720942252, much lower than 1. So we can conclude the clustering result is not very good."
   ]
  },
  {
   "cell_type": "markdown",
   "metadata": {},
   "source": [
    "## Agglomerative clustering with Ward linkage\n",
    "### Fit the data and rename the clusters."
   ]
  },
  {
   "cell_type": "code",
   "execution_count": 120,
   "metadata": {},
   "outputs": [
    {
     "name": "stdout",
     "output_type": "stream",
     "text": [
      "Print 30 samples to see the performance of the algorithm intuitively.\n",
      "y:      [0 1 2 3 4 5 6 7 8 9 0 1 2 3 4 5 6 7 8 9 0 1 2 3 4 5 6 7 8 9]\n",
      "cluster:[0 1 8 3 4 3 6 7 8 3 0 1 2 3 4 5 6 7 8 3 0 1 2 3 4 5 6 7 8 3]\n"
     ]
    }
   ],
   "source": [
    "clustering = AgglomerativeClustering(linkage='ward', n_clusters=10)\n",
    "clustering.fit(X)\n",
    "labels = def_cluster(y, clustering.labels_)\n",
    "print('Print 30 samples to see the performance of the algorithm intuitively.')\n",
    "print('y:      ' + str(y[:30]))\n",
    "print('cluster:' + str(labels[:30]))"
   ]
  },
  {
   "cell_type": "markdown",
   "metadata": {},
   "source": [
    "### Create confusion matrix."
   ]
  },
  {
   "cell_type": "code",
   "execution_count": 121,
   "metadata": {
    "scrolled": true
   },
   "outputs": [
    {
     "name": "stdout",
     "output_type": "stream",
     "text": [
      "confusion matrix:\n",
      "[[178   0   0   0   0   0   0   0   0   0]\n",
      " [  0 155  27   0   0   0   0   0   0   0]\n",
      " [  0   0 166   0   0   0   0   1  10   0]\n",
      " [  0   0   0 169   0   0   0   1  13   0]\n",
      " [  0   0   0   0 178   0   0   3   0   0]\n",
      " [  0   0   0   2   0 179   1   0   0   0]\n",
      " [  0   0   0   0   0   0 180   0   1   0]\n",
      " [  0   0   0   0   0   0   0 179   0   0]\n",
      " [  0   3   4   1   0   0   0   1 165   0]\n",
      " [  0  20   0 145   0   2   0  11   2   0]]\n"
     ]
    }
   ],
   "source": [
    "cfs_mat = confusion_matrix(y, labels)\n",
    "print(\"confusion matrix:\")\n",
    "print(cfs_mat)"
   ]
  },
  {
   "cell_type": "markdown",
   "metadata": {},
   "source": [
    "From the confusion matrix, we can see for most digits the clustering results are very good. But for the numbers 9, the results are very bad. Numbers 3 and 9 have been clustered into the same cluster."
   ]
  },
  {
   "cell_type": "markdown",
   "metadata": {},
   "source": [
    "### Fowlkes–Mallows index"
   ]
  },
  {
   "cell_type": "code",
   "execution_count": 122,
   "metadata": {},
   "outputs": [
    {
     "name": "stdout",
     "output_type": "stream",
     "text": [
      "Fowlkes–Mallows index:\n",
      "0.832139504671\n"
     ]
    }
   ],
   "source": [
    "fm_index = fowlkes_mallows_score(y, labels)\n",
    "print(\"Fowlkes–Mallows index:\")\n",
    "print(fm_index)"
   ]
  },
  {
   "cell_type": "markdown",
   "metadata": {},
   "source": [
    "The Fowlkes–Mallows index is 0.832139504671, very close to 1. So we can conclude the clustering result is very good."
   ]
  },
  {
   "cell_type": "markdown",
   "metadata": {},
   "source": [
    "## AffinityPropagation\n",
    "### Fit the data and rename the clusters."
   ]
  },
  {
   "cell_type": "code",
   "execution_count": 123,
   "metadata": {},
   "outputs": [
    {
     "name": "stdout",
     "output_type": "stream",
     "text": [
      "Print 30 samples to see the performance of the algorithm intuitively.\n",
      "y:      [0 1 2 3 4 5 6 7 8 9 0 1 2 3 4 5 6 7 8 9 0 1 2 3 4 5 6 7 8 9]\n",
      "cluster:[0 1 8 3 4 3 6 7 8 3 0 1 2 3 4 5 6 7 8 3 0 1 2 3 4 5 6 7 8 3]\n"
     ]
    }
   ],
   "source": [
    "af = AffinityPropagation(preference=-80000).fit(X)\n",
    "labels = def_cluster(y, clustering.labels_)\n",
    "print('Print 30 samples to see the performance of the algorithm intuitively.')\n",
    "print('y:      ' + str(y[:30]))\n",
    "print('cluster:' + str(labels[:30]))"
   ]
  },
  {
   "cell_type": "markdown",
   "metadata": {},
   "source": [
    "### Create confusion matrix."
   ]
  },
  {
   "cell_type": "code",
   "execution_count": 124,
   "metadata": {},
   "outputs": [
    {
     "name": "stdout",
     "output_type": "stream",
     "text": [
      "confusion matrix:\n",
      "[[178   0   0   0   0   0   0   0   0   0]\n",
      " [  0 155  27   0   0   0   0   0   0   0]\n",
      " [  0   0 166   0   0   0   0   1  10   0]\n",
      " [  0   0   0 169   0   0   0   1  13   0]\n",
      " [  0   0   0   0 178   0   0   3   0   0]\n",
      " [  0   0   0   2   0 179   1   0   0   0]\n",
      " [  0   0   0   0   0   0 180   0   1   0]\n",
      " [  0   0   0   0   0   0   0 179   0   0]\n",
      " [  0   3   4   1   0   0   0   1 165   0]\n",
      " [  0  20   0 145   0   2   0  11   2   0]]\n"
     ]
    }
   ],
   "source": [
    "cfs_mat = confusion_matrix(y, labels)\n",
    "print(\"confusion matrix:\")\n",
    "print(cfs_mat)"
   ]
  },
  {
   "cell_type": "markdown",
   "metadata": {},
   "source": [
    "From the confusion matrix, we can see for most digits the clustering results are very good. But for the numbers 9, the results are very bad. Numbers 3 and 9 have been clustered into the same cluster."
   ]
  },
  {
   "cell_type": "markdown",
   "metadata": {},
   "source": [
    "### Fowlkes–Mallows index"
   ]
  },
  {
   "cell_type": "code",
   "execution_count": 125,
   "metadata": {},
   "outputs": [
    {
     "name": "stdout",
     "output_type": "stream",
     "text": [
      "Fowlkes–Mallows index:\n",
      "0.832139504671\n"
     ]
    }
   ],
   "source": [
    "fm_index = fowlkes_mallows_score(y, labels)\n",
    "print(\"Fowlkes–Mallows index:\")\n",
    "print(fm_index)"
   ]
  },
  {
   "cell_type": "markdown",
   "metadata": {},
   "source": [
    "The Fowlkes–Mallows index is 0.832139504671, very close to 1. So we can conclude the clustering result is very good."
   ]
  },
  {
   "cell_type": "markdown",
   "metadata": {},
   "source": [
    "# Problem 4. (20 points) Apply three classification techniques to the same realdata1.zip dataset as in Problem 2:"
   ]
  },
  {
   "cell_type": "markdown",
   "metadata": {},
   "source": [
    "## Support Vector Machine with the linear kernel and default parameters\n",
    "\n",
    "Firstly, we need to import dependencies and load the data."
   ]
  },
  {
   "cell_type": "code",
   "execution_count": 89,
   "metadata": {
    "collapsed": true
   },
   "outputs": [],
   "source": [
    "from sklearn import svm\n",
    "from sklearn.ensemble import RandomForestClassifier\n",
    "from sklearn.metrics import f1_score\n",
    "\n",
    "X, y = get_normalized_data()\n",
    "X_train, y_train, X_test, y_test = split_into_train_test_set(X, y, 0.8)"
   ]
  },
  {
   "cell_type": "markdown",
   "metadata": {},
   "source": [
    "Next, we begin to train SVM with linear kernel."
   ]
  },
  {
   "cell_type": "code",
   "execution_count": 91,
   "metadata": {},
   "outputs": [
    {
     "name": "stdout",
     "output_type": "stream",
     "text": [
      "f-measure on training set: 1.0\n",
      "f-measure on test set: 0.9873417721518987\n"
     ]
    }
   ],
   "source": [
    "clf = svm.SVC(kernel='linear')\n",
    "clf.fit(X_train, y_train)\n",
    "pred = clf.predict(X_train)\n",
    "f = f1_score(y_train, pred)\n",
    "print('f-measure on training set: {}'.format(f))\n",
    "pred = clf.predict(X_test)\n",
    "f = f1_score(y_test, pred)\n",
    "print('f-measure on test set: {}'.format(f))"
   ]
  },
  {
   "cell_type": "markdown",
   "metadata": {},
   "source": [
    "We can see the f-measure is very close to 1, which means the result is very good. The f-measures on training set and test set are very close, so the model is only slightly overfitted on the training set and it is acceptable. "
   ]
  },
  {
   "cell_type": "markdown",
   "metadata": {},
   "source": [
    "## Support Vector Machine with the RBF kernel and default parameters"
   ]
  },
  {
   "cell_type": "code",
   "execution_count": 92,
   "metadata": {},
   "outputs": [
    {
     "name": "stdout",
     "output_type": "stream",
     "text": [
      "f-measureon training set: 1.0\n",
      "f-measureon test set: 0.9873417721518987\n"
     ]
    }
   ],
   "source": [
    "clf = svm.SVC(kernel='rbf')\n",
    "clf.fit(X_train, y_train)\n",
    "pred = clf.predict(X_train)\n",
    "f = f1_score(y_train, pred)\n",
    "print('f-measure on training set: {}'.format(f))\n",
    "pred = clf.predict(X_test)\n",
    "f = f1_score(y_test, pred)\n",
    "print('f-measure on test set: {}'.format(f))"
   ]
  },
  {
   "cell_type": "markdown",
   "metadata": {},
   "source": [
    "The f-measure is very close to 1, which means the result is also very good.  The f-measures on training set and test set are very close, so the model is only slightly overfitted on the training set and it is acceptable. "
   ]
  },
  {
   "cell_type": "markdown",
   "metadata": {},
   "source": [
    "## Random forest with default parameters"
   ]
  },
  {
   "cell_type": "code",
   "execution_count": 95,
   "metadata": {},
   "outputs": [
    {
     "name": "stdout",
     "output_type": "stream",
     "text": [
      "f-measure on training set: 1.0\n",
      "f-measure on test set: 0.9870129870129869\n"
     ]
    }
   ],
   "source": [
    "clf = RandomForestClassifier()\n",
    "clf.fit(X_train, y_train)\n",
    "pred = clf.predict(X_train)\n",
    "f = f1_score(y_train, pred)\n",
    "print('f-measure on training set: {}'.format(f))\n",
    "pred = clf.predict(X_test)\n",
    "f = f1_score(y_test, pred)\n",
    "print('f-measure on test set: {}'.format(f))"
   ]
  },
  {
   "cell_type": "markdown",
   "metadata": {},
   "source": [
    "The f-measure is  1, which means the result is perfect.  The f-measures on training set and test set are very close, so the model is only slightly overfitted on the training set and it is acceptable. "
   ]
  }
 ],
 "metadata": {
  "kernelspec": {
   "display_name": "Python 3",
   "language": "python",
   "name": "python3"
  },
  "language_info": {
   "codemirror_mode": {
    "name": "ipython",
    "version": 3
   },
   "file_extension": ".py",
   "mimetype": "text/x-python",
   "name": "python",
   "nbconvert_exporter": "python",
   "pygments_lexer": "ipython3",
   "version": "3.6.1"
  }
 },
 "nbformat": 4,
 "nbformat_minor": 2
}
